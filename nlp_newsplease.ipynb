{
  "nbformat": 4,
  "nbformat_minor": 0,
  "metadata": {
    "colab": {
      "name": "nlp_newsplease.ipynb",
      "provenance": [],
      "authorship_tag": "ABX9TyMbkmwS2c9wUhjepaY8g/id",
      "include_colab_link": true
    },
    "kernelspec": {
      "name": "python3",
      "display_name": "Python 3"
    }
  },
  "cells": [
    {
      "cell_type": "markdown",
      "metadata": {
        "id": "view-in-github",
        "colab_type": "text"
      },
      "source": [
        "<a href=\"https://colab.research.google.com/github/Ronaksh21/Protest-News/blob/master/nlp_newsplease.ipynb\" target=\"_parent\"><img src=\"https://colab.research.google.com/assets/colab-badge.svg\" alt=\"Open In Colab\"/></a>"
      ]
    },
    {
      "cell_type": "code",
      "metadata": {
        "id": "5rKM2GT_LovU",
        "colab_type": "code",
        "colab": {}
      },
      "source": [
        "from newsplease import NewsPlease\n",
        "import json\n",
        "import pandas as pd\n",
        "import numpy as np\n",
        "\n"
      ],
      "execution_count": null,
      "outputs": []
    },
    {
      "cell_type": "code",
      "metadata": {
        "id": "-h3uLM-CRZoP",
        "colab_type": "code",
        "colab": {
          "base_uri": "https://localhost:8080/",
          "height": 806
        },
        "outputId": "987d4f3f-7e56-46cd-e562-acc8c2a92d67"
      },
      "source": [
        "data=pd.read_csv(\"url.csv\")\n",
        "data1=data.url\n",
        "list1=[]\n",
        "print(data1[0])\n",
        "z=np.size(data1)\n",
        "for i in range(0,44):\n",
        "  article = NewsPlease.from_url(data1[i])\n",
        "  list1.append([article.url,article.source_domain,article.date_publish,article.title,article.maintext])\n",
        "  print(i)\n",
        "df=pd.DataFrame(list1)\n",
        "df.to_csv ('f3.csv', index = False, header=True)\n",
        "  #print(article.title)\n",
        "  #print(article.authors)\n",
        "  #print(article.date_publish)\n",
        "  #print(article.maintext)\n",
        "  #print(article.source_domain)\n",
        "  #print(article.url)\n"
      ],
      "execution_count": null,
      "outputs": [
        {
          "output_type": "stream",
          "text": [
            "https://www.amarujala.com/uttar-pradesh/kanpur/video-of-fight-between-arto-and-auto-drivers-goes-viral\n",
            "0\n",
            "1\n",
            "2\n",
            "3\n",
            "4\n",
            "5\n",
            "6\n",
            "7\n",
            "8\n",
            "9\n",
            "10\n",
            "11\n",
            "12\n"
          ],
          "name": "stdout"
        },
        {
          "output_type": "stream",
          "text": [
            "Some characters could not be decoded, and were replaced with REPLACEMENT CHARACTER.\n"
          ],
          "name": "stderr"
        },
        {
          "output_type": "stream",
          "text": [
            "13\n",
            "14\n",
            "15\n",
            "16\n",
            "17\n",
            "18\n",
            "19\n",
            "20\n",
            "21\n",
            "22\n",
            "23\n",
            "24\n",
            "25\n",
            "26\n",
            "27\n",
            "28\n",
            "29\n"
          ],
          "name": "stdout"
        },
        {
          "output_type": "stream",
          "text": [
            "Some characters could not be decoded, and were replaced with REPLACEMENT CHARACTER.\n"
          ],
          "name": "stderr"
        },
        {
          "output_type": "stream",
          "text": [
            "30\n",
            "31\n",
            "32\n",
            "33\n",
            "34\n",
            "35\n",
            "36\n",
            "37\n",
            "38\n",
            "39\n",
            "40\n",
            "41\n",
            "42\n",
            "43\n"
          ],
          "name": "stdout"
        }
      ]
    }
  ]
}