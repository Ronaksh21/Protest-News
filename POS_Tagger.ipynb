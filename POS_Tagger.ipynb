{
  "nbformat": 4,
  "nbformat_minor": 0,
  "metadata": {
    "colab": {
      "name": "POS Tagger.ipynb",
      "provenance": [],
      "collapsed_sections": [],
      "authorship_tag": "ABX9TyPZ5veOy45gFix1LsmpyACh",
      "include_colab_link": true
    },
    "kernelspec": {
      "name": "python3",
      "display_name": "Python 3"
    }
  },
  "cells": [
    {
      "cell_type": "markdown",
      "metadata": {
        "id": "view-in-github",
        "colab_type": "text"
      },
      "source": [
        "<a href=\"https://colab.research.google.com/github/Ronaksh21/Protest-News/blob/master/POS_Tagger.ipynb\" target=\"_parent\"><img src=\"https://colab.research.google.com/assets/colab-badge.svg\" alt=\"Open In Colab\"/></a>"
      ]
    },
    {
      "cell_type": "markdown",
      "metadata": {
        "id": "iH7oztKk8jyi",
        "colab_type": "text"
      },
      "source": [
        "This Python Code outputs POS tags from the summary."
      ]
    },
    {
      "cell_type": "code",
      "metadata": {
        "id": "tA7OKt6RFTv5",
        "colab_type": "code",
        "colab": {}
      },
      "source": [
        "import pandas as pd\n",
        "import nltk\n",
        "from nltk.tokenize import word_tokenize\n",
        "from nltk.tag import pos_tag\n"
      ],
      "execution_count": null,
      "outputs": []
    },
    {
      "cell_type": "code",
      "metadata": {
        "id": "lwe4La39Fwoi",
        "colab_type": "code",
        "colab": {
          "base_uri": "https://localhost:8080/",
          "height": 54
        },
        "outputId": "94bfb0e5-204c-4ba2-a118-f8e2ce18799f"
      },
      "source": [
        "data=pd.read_csv(\"traindata.csv\")\n",
        "col1=['id', 'data_id', 'country', 'source_url', 'source_name',\n",
        "       'published_date', 'headline', 'content']\n",
        "col2=['content']\n",
        "data1=data.content\n",
        "text1=data1[0]\n",
        "print(text1)"
      ],
      "execution_count": null,
      "outputs": [
        {
          "output_type": "stream",
          "text": [
            "The police arrested 234 employees and retired workers of Tamil Nadu State Transport Corporation when they staged a dharna in front of depots at seven places in the district on Saturday.  As TNSTC struggles to disburse pension on the first day of every month, settle retirement benefits and revised salary as per the wage settlement negotiations, workers and retired employees are staging various protests.  When they staged a dharna in front of depots on Saturday to prevent buses being taken out to various destinations, the police arrested them. The agitation began at 3.30 a.m. at Vannarpet.  The protests were organised at Vannarpet (80), Bypass Road depot (34), KTC Nagar depot (46), Shencottai (13), Cheranmahadevi (14), Puliyangudi (17) and Papanasam (30).  In Thoothukudi district, the police arrested 112 persons as workers and retired employees staged a dharna in front of depots at Old Bus-Stand, Kovilpatti – Ilaiyarasanenthal Road and Srivaikundam. They were released later.  Nagercoil  Over 1,000 retired employees continued their agitation in front of the General Manager, Nagercoil Region, Asaripallam. M. Sundararaj, district secretary, Transport Employees Union, said that the government failed to keep its promise on allocation of sufficient funds in the budget for settlement of terminal benefits to retired employees. The retired employees are in deep stress due to irregular disbursal of pension for the last few months.\n"
          ],
          "name": "stdout"
        }
      ]
    },
    {
      "cell_type": "code",
      "metadata": {
        "id": "Ce3wTJ0fR_3k",
        "colab_type": "code",
        "colab": {}
      },
      "source": [
        "def preprocess(sent):\n",
        "    sent = nltk.word_tokenize(sent)\n",
        "    sent = nltk.pos_tag(sent)\n",
        "    return sent\n",
        "sent = preprocess(text1)\n",
        "#print(sent)"
      ],
      "execution_count": null,
      "outputs": []
    },
    {
      "cell_type": "code",
      "metadata": {
        "id": "4v-uXVNcSCOs",
        "colab_type": "code",
        "colab": {
          "base_uri": "https://localhost:8080/",
          "height": 202
        },
        "outputId": "9c2a7ef2-82ce-46d6-ded8-2f80d205e296"
      },
      "source": [
        "nltk.download('punkt')\n",
        "nltk.download('averaged_perceptron_tagger')\n",
        "nltk.download('maxent_ne_chunker')\n",
        "nltk.download('words')"
      ],
      "execution_count": null,
      "outputs": [
        {
          "output_type": "stream",
          "text": [
            "[nltk_data] Downloading package punkt to /root/nltk_data...\n",
            "[nltk_data]   Unzipping tokenizers/punkt.zip.\n",
            "[nltk_data] Downloading package averaged_perceptron_tagger to\n",
            "[nltk_data]     /root/nltk_data...\n",
            "[nltk_data]   Unzipping taggers/averaged_perceptron_tagger.zip.\n",
            "[nltk_data] Downloading package maxent_ne_chunker to\n",
            "[nltk_data]     /root/nltk_data...\n",
            "[nltk_data]   Unzipping chunkers/maxent_ne_chunker.zip.\n",
            "[nltk_data] Downloading package words to /root/nltk_data...\n",
            "[nltk_data]   Unzipping corpora/words.zip.\n"
          ],
          "name": "stdout"
        },
        {
          "output_type": "execute_result",
          "data": {
            "text/plain": [
              "True"
            ]
          },
          "metadata": {
            "tags": []
          },
          "execution_count": 5
        }
      ]
    },
    {
      "cell_type": "code",
      "metadata": {
        "id": "OJuZKEpHf13j",
        "colab_type": "code",
        "colab": {}
      },
      "source": [
        "pattern = 'NP: {<DT>?<JJ>*<NN>}'\n",
        "cp = nltk.RegexpParser(pattern)\n",
        "cs = cp.parse(sent)\n",
        "#print(cs)"
      ],
      "execution_count": null,
      "outputs": []
    },
    {
      "cell_type": "code",
      "metadata": {
        "id": "dntaFV-uh3dD",
        "colab_type": "code",
        "colab": {}
      },
      "source": [
        "from nltk.chunk import conlltags2tree, tree2conlltags\n",
        "from pprint import pprint\n",
        "iob_tagged = tree2conlltags(cs)\n",
        "#pprint(iob_tagged)"
      ],
      "execution_count": null,
      "outputs": []
    },
    {
      "cell_type": "code",
      "metadata": {
        "id": "TTetkfvViW1T",
        "colab_type": "code",
        "colab": {}
      },
      "source": [
        "ne_tree = nltk.ne_chunk(pos_tag(word_tokenize(text1)))\n",
        "#print(ne_tree)"
      ],
      "execution_count": null,
      "outputs": []
    },
    {
      "cell_type": "code",
      "metadata": {
        "id": "YieBWumok-AO",
        "colab_type": "code",
        "colab": {}
      },
      "source": [
        "import spacy\n",
        "from spacy import displacy\n",
        "from collections import Counter\n",
        "import en_core_web_sm\n",
        "nlp = en_core_web_sm.load()"
      ],
      "execution_count": null,
      "outputs": []
    },
    {
      "cell_type": "code",
      "metadata": {
        "id": "Jfuv_YePlBB7",
        "colab_type": "code",
        "colab": {
          "base_uri": "https://localhost:8080/",
          "height": 739
        },
        "outputId": "9e69d46b-a71a-4b3d-ec40-d75ab63c9db3"
      },
      "source": [
        "#doc = nlp('European authorities fined Google a record $5.1 billion on Wednesday for abusing its power in the mobile phone market and ordered the company to alter its practices')\n",
        "doc=nlp(text1)\n",
        "\n",
        "pprint([(X.text, X.label_) for X in doc.ents])\n",
        "for X in doc.ents:\n",
        "  if(X.label_==\"PERSON\"):\n",
        "    pprint(X.text)"
      ],
      "execution_count": null,
      "outputs": [
        {
          "output_type": "stream",
          "text": [
            "[('234', 'CARDINAL'),\n",
            " ('Tamil Nadu State Transport Corporation', 'ORG'),\n",
            " ('seven', 'CARDINAL'),\n",
            " ('Saturday', 'DATE'),\n",
            " ('TNSTC', 'ORG'),\n",
            " ('the first day of every month', 'DATE'),\n",
            " ('Saturday', 'DATE'),\n",
            " ('3.30 a.m.', 'TIME'),\n",
            " ('Vannarpet', 'GPE'),\n",
            " ('Vannarpet', 'GPE'),\n",
            " ('80', 'CARDINAL'),\n",
            " ('Bypass Road', 'FAC'),\n",
            " ('34', 'CARDINAL'),\n",
            " ('Nagar', 'PERSON'),\n",
            " ('46', 'CARDINAL'),\n",
            " ('Shencottai', 'PERSON'),\n",
            " ('Cheranmahadevi', 'PERSON'),\n",
            " ('14', 'CARDINAL'),\n",
            " ('Puliyangudi', 'NORP'),\n",
            " ('17', 'CARDINAL'),\n",
            " ('Papanasam', 'PERSON'),\n",
            " ('Thoothukudi', 'LOC'),\n",
            " ('112', 'CARDINAL'),\n",
            " ('Old Bus-Stand', 'FAC'),\n",
            " ('Kovilpatti', 'PERSON'),\n",
            " ('Ilaiyarasanenthal Road', 'FAC'),\n",
            " ('Srivaikundam', 'PERSON'),\n",
            " ('Nagercoil', 'PERSON'),\n",
            " ('Over 1,000', 'CARDINAL'),\n",
            " ('the General Manager', 'ORG'),\n",
            " ('Asaripallam', 'PERSON'),\n",
            " ('M. Sundararaj', 'PERSON'),\n",
            " ('Transport Employees Union', 'ORG'),\n",
            " ('the last few months', 'DATE')]\n",
            "'Nagar'\n",
            "'Shencottai'\n",
            "'Cheranmahadevi'\n",
            "'Papanasam'\n",
            "'Kovilpatti'\n",
            "'Srivaikundam'\n",
            "'Nagercoil'\n",
            "'Asaripallam'\n",
            "'M. Sundararaj'\n"
          ],
          "name": "stdout"
        }
      ]
    }
  ]
}